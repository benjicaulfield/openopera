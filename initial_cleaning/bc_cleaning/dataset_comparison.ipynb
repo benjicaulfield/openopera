{
 "cells": [
  {
   "cell_type": "code",
   "execution_count": 61,
   "id": "ef4ab448",
   "metadata": {},
   "outputs": [],
   "source": [
    "import numpy as np\n",
    "import pandas as pd\n",
    "\n",
    "from collections import Counter\n",
    "\n",
    "pd.set_option('display.max_rows', None)"
   ]
  },
  {
   "cell_type": "code",
   "execution_count": 62,
   "id": "67e85b52",
   "metadata": {},
   "outputs": [],
   "source": [
    "wapo = pd.read_csv('datasets/wapo.csv')\n",
    "mpv = pd.read_csv('datasets/mpv.csv')\n",
    "mcdc = pd.read_csv('datasets/mcdc.csv')"
   ]
  },
  {
   "cell_type": "code",
   "execution_count": 63,
   "id": "85ba4ece",
   "metadata": {},
   "outputs": [
    {
     "data": {
      "text/plain": [
       "(7514, 10212, 2143)"
      ]
     },
     "execution_count": 63,
     "metadata": {},
     "output_type": "execute_result"
    }
   ],
   "source": [
    "len(wapo), len(mpv), len(mcdc)"
   ]
  },
  {
   "cell_type": "code",
   "execution_count": 64,
   "id": "f5d0781e",
   "metadata": {},
   "outputs": [],
   "source": [
    "wapo.columns\n",
    "wapo = wapo[['id', 'name', 'date', 'age', 'gender', 'race', 'city', 'state']]\n",
    "wapo = wapo.dropna()"
   ]
  },
  {
   "cell_type": "code",
   "execution_count": 65,
   "id": "3ed3f6ed",
   "metadata": {},
   "outputs": [],
   "source": [
    "mpv.columns\n",
    "mpv = mpv[['name', 'age', 'gender', 'race', 'date', 'city', 'state']]\n",
    "mpv = mpv.dropna()"
   ]
  },
  {
   "cell_type": "code",
   "execution_count": 66,
   "id": "5e903e41",
   "metadata": {},
   "outputs": [],
   "source": [
    "mcdc.columns\n",
    "mcdc = mcdc[['ID', 'Victim\\'s name', 'Age', 'Gender', \n",
    "             'Incident Date (MM/DD/YYYY)', 'City', 'State', 'WaPo ID (If included in WaPo database)']]\n",
    "\n",
    "rename_dict = {'Victim\\'s name': 'name',\n",
    "               'Age': 'age',\n",
    "               'Gender': 'gender',\n",
    "               'Incident Date (MM/DD/YYYY)': 'date',\n",
    "               'City': 'city',\n",
    "               'State': 'state',\n",
    "               'WaPo ID (If included in WaPo database)': 'wapo_id'}\n",
    "\n",
    "mcdc = mcdc.rename(columns=rename_dict)"
   ]
  },
  {
   "cell_type": "code",
   "execution_count": 67,
   "id": "b4afb829",
   "metadata": {},
   "outputs": [],
   "source": [
    "no_date = mcdc.iloc[0]\n",
    "mcdc = mcdc.drop(0)\n",
    "\n",
    "mcdc['date'] = pd.to_datetime(mcdc['date'])\n",
    "wapo['date'] = pd.to_datetime(wapo['date'])\n",
    "mpv['date'] = pd.to_datetime(mpv['date'])"
   ]
  },
  {
   "cell_type": "code",
   "execution_count": 68,
   "id": "f9d7d6bb",
   "metadata": {},
   "outputs": [],
   "source": [
    "split_names = mcdc['name'].str.split()\n",
    "mcdc['name'] = [name for name in mcdc['name'].str.split()]\n",
    "mcdc['age'] = mcdc['age'].astype(int, errors='ignore')\n",
    "mcdc['wapo_id'] = mcdc['wapo_id'].replace(np.nan, 0)\n",
    "mcdc['wapo_id'] = mcdc['wapo_id'].astype(int, errors='ignore')"
   ]
  },
  {
   "cell_type": "code",
   "execution_count": null,
   "id": "931110c1",
   "metadata": {},
   "outputs": [],
   "source": []
  },
  {
   "cell_type": "code",
   "execution_count": 58,
   "id": "3586a11d",
   "metadata": {},
   "outputs": [],
   "source": [
    "wapo = wapo[wapo['race'] == 'B']\n",
    "wapo = wapo.rename(columns={'id': 'wapo_id'})\n",
    "wapo['name'] = [name for name in wapo['name'].str.split()]\n",
    "wapo['age'] = wapo['age'].astype(int)\n",
    "wapo['gender'] = wapo['gender'].replace(['M', 'F'], ['Male', 'Female'])\n",
    "wapo['gender'] = wapo['race'].replace()\n",
    "\n",
    "mpv = mpv[(mpv['race'].isin(['Black', 'Unknown']))]\n",
    "mpv['name'] = [name for name in mpv['name'].str.split()]\n",
    "mpv['age'] = mpv['age'].astype(int)\n",
    "mpv = mpv[(mpv['race'].isin(['Black', 'Unknown']))]"
   ]
  },
  {
   "cell_type": "code",
   "execution_count": 59,
   "id": "2f574991",
   "metadata": {},
   "outputs": [],
   "source": [
    "wapo.to_csv('wapo.csv')\n",
    "mpv.to_csv('mpv.csv')"
   ]
  },
  {
   "cell_type": "code",
   "execution_count": 60,
   "id": "86500b52",
   "metadata": {},
   "outputs": [
    {
     "data": {
      "text/plain": [
       "(1606, 2502, 2142)"
      ]
     },
     "execution_count": 60,
     "metadata": {},
     "output_type": "execute_result"
    }
   ],
   "source": [
    "len(wapo), len(mpv), len(mcdc)"
   ]
  },
  {
   "cell_type": "code",
   "execution_count": 41,
   "id": "18ead52d",
   "metadata": {
    "scrolled": true
   },
   "outputs": [],
   "source": [
    "'''all wapo ids in dataset match on name'''\n",
    "wapo_ids = mcdc.merge(wapo, on='wapo_id', how='inner')\n",
    "wapos = wapo_ids[wapo_ids.apply(lambda x: any(i in x['name_x'] for i in x['name_y']), axis=1)]"
   ]
  },
  {
   "cell_type": "code",
   "execution_count": 49,
   "id": "40511348",
   "metadata": {},
   "outputs": [
    {
     "ename": "KeyError",
     "evalue": "'wapo_id'",
     "output_type": "error",
     "traceback": [
      "\u001b[0;31m---------------------------------------------------------------------------\u001b[0m",
      "\u001b[0;31mKeyError\u001b[0m                                  Traceback (most recent call last)",
      "\u001b[0;32m~/opt/anaconda3/lib/python3.8/site-packages/pandas/core/indexes/base.py\u001b[0m in \u001b[0;36mget_loc\u001b[0;34m(self, key, method, tolerance)\u001b[0m\n\u001b[1;32m   3620\u001b[0m             \u001b[0;32mtry\u001b[0m\u001b[0;34m:\u001b[0m\u001b[0;34m\u001b[0m\u001b[0;34m\u001b[0m\u001b[0m\n\u001b[0;32m-> 3621\u001b[0;31m                 \u001b[0;32mreturn\u001b[0m \u001b[0mself\u001b[0m\u001b[0;34m.\u001b[0m\u001b[0m_engine\u001b[0m\u001b[0;34m.\u001b[0m\u001b[0mget_loc\u001b[0m\u001b[0;34m(\u001b[0m\u001b[0mcasted_key\u001b[0m\u001b[0;34m)\u001b[0m\u001b[0;34m\u001b[0m\u001b[0;34m\u001b[0m\u001b[0m\n\u001b[0m\u001b[1;32m   3622\u001b[0m             \u001b[0;32mexcept\u001b[0m \u001b[0mKeyError\u001b[0m \u001b[0;32mas\u001b[0m \u001b[0merr\u001b[0m\u001b[0;34m:\u001b[0m\u001b[0;34m\u001b[0m\u001b[0;34m\u001b[0m\u001b[0m\n",
      "\u001b[0;32m~/opt/anaconda3/lib/python3.8/site-packages/pandas/_libs/index.pyx\u001b[0m in \u001b[0;36mpandas._libs.index.IndexEngine.get_loc\u001b[0;34m()\u001b[0m\n",
      "\u001b[0;32m~/opt/anaconda3/lib/python3.8/site-packages/pandas/_libs/index.pyx\u001b[0m in \u001b[0;36mpandas._libs.index.IndexEngine.get_loc\u001b[0;34m()\u001b[0m\n",
      "\u001b[0;32mpandas/_libs/hashtable_class_helper.pxi\u001b[0m in \u001b[0;36mpandas._libs.hashtable.PyObjectHashTable.get_item\u001b[0;34m()\u001b[0m\n",
      "\u001b[0;32mpandas/_libs/hashtable_class_helper.pxi\u001b[0m in \u001b[0;36mpandas._libs.hashtable.PyObjectHashTable.get_item\u001b[0;34m()\u001b[0m\n",
      "\u001b[0;31mKeyError\u001b[0m: 'wapo_id'",
      "\nThe above exception was the direct cause of the following exception:\n",
      "\u001b[0;31mKeyError\u001b[0m                                  Traceback (most recent call last)",
      "\u001b[0;32m/var/folders/xx/83_78b812vl_cw87cb3g0r6r0000gq/T/ipykernel_9802/2686017799.py\u001b[0m in \u001b[0;36m<module>\u001b[0;34m\u001b[0m\n\u001b[1;32m      1\u001b[0m \u001b[0;34m'''remove all wapo ids from mcdc'''\u001b[0m\u001b[0;34m\u001b[0m\u001b[0;34m\u001b[0m\u001b[0m\n\u001b[0;32m----> 2\u001b[0;31m \u001b[0mmcdc\u001b[0m \u001b[0;34m=\u001b[0m \u001b[0mmcdc\u001b[0m\u001b[0;34m[\u001b[0m\u001b[0;34m~\u001b[0m\u001b[0mmcdc\u001b[0m\u001b[0;34m[\u001b[0m\u001b[0;34m'wapo_id'\u001b[0m\u001b[0;34m]\u001b[0m\u001b[0;34m.\u001b[0m\u001b[0misin\u001b[0m\u001b[0;34m(\u001b[0m\u001b[0mwapos\u001b[0m\u001b[0;34m[\u001b[0m\u001b[0;34m'wapo_id'\u001b[0m\u001b[0;34m]\u001b[0m\u001b[0;34m)\u001b[0m\u001b[0;34m]\u001b[0m\u001b[0;34m\u001b[0m\u001b[0;34m\u001b[0m\u001b[0m\n\u001b[0m\u001b[1;32m      3\u001b[0m \u001b[0mwapo\u001b[0m \u001b[0;34m=\u001b[0m \u001b[0mwapo\u001b[0m\u001b[0;34m[\u001b[0m\u001b[0;34m~\u001b[0m\u001b[0mwapo\u001b[0m\u001b[0;34m[\u001b[0m\u001b[0;34m'wapo_id'\u001b[0m\u001b[0;34m]\u001b[0m\u001b[0;34m.\u001b[0m\u001b[0misin\u001b[0m\u001b[0;34m(\u001b[0m\u001b[0mwapos\u001b[0m\u001b[0;34m[\u001b[0m\u001b[0;34m'wapo_id'\u001b[0m\u001b[0;34m]\u001b[0m\u001b[0;34m)\u001b[0m\u001b[0;34m]\u001b[0m\u001b[0;34m\u001b[0m\u001b[0;34m\u001b[0m\u001b[0m\n",
      "\u001b[0;32m~/opt/anaconda3/lib/python3.8/site-packages/pandas/core/frame.py\u001b[0m in \u001b[0;36m__getitem__\u001b[0;34m(self, key)\u001b[0m\n\u001b[1;32m   3503\u001b[0m             \u001b[0;32mif\u001b[0m \u001b[0mself\u001b[0m\u001b[0;34m.\u001b[0m\u001b[0mcolumns\u001b[0m\u001b[0;34m.\u001b[0m\u001b[0mnlevels\u001b[0m \u001b[0;34m>\u001b[0m \u001b[0;36m1\u001b[0m\u001b[0;34m:\u001b[0m\u001b[0;34m\u001b[0m\u001b[0;34m\u001b[0m\u001b[0m\n\u001b[1;32m   3504\u001b[0m                 \u001b[0;32mreturn\u001b[0m \u001b[0mself\u001b[0m\u001b[0;34m.\u001b[0m\u001b[0m_getitem_multilevel\u001b[0m\u001b[0;34m(\u001b[0m\u001b[0mkey\u001b[0m\u001b[0;34m)\u001b[0m\u001b[0;34m\u001b[0m\u001b[0;34m\u001b[0m\u001b[0m\n\u001b[0;32m-> 3505\u001b[0;31m             \u001b[0mindexer\u001b[0m \u001b[0;34m=\u001b[0m \u001b[0mself\u001b[0m\u001b[0;34m.\u001b[0m\u001b[0mcolumns\u001b[0m\u001b[0;34m.\u001b[0m\u001b[0mget_loc\u001b[0m\u001b[0;34m(\u001b[0m\u001b[0mkey\u001b[0m\u001b[0;34m)\u001b[0m\u001b[0;34m\u001b[0m\u001b[0;34m\u001b[0m\u001b[0m\n\u001b[0m\u001b[1;32m   3506\u001b[0m             \u001b[0;32mif\u001b[0m \u001b[0mis_integer\u001b[0m\u001b[0;34m(\u001b[0m\u001b[0mindexer\u001b[0m\u001b[0;34m)\u001b[0m\u001b[0;34m:\u001b[0m\u001b[0;34m\u001b[0m\u001b[0;34m\u001b[0m\u001b[0m\n\u001b[1;32m   3507\u001b[0m                 \u001b[0mindexer\u001b[0m \u001b[0;34m=\u001b[0m \u001b[0;34m[\u001b[0m\u001b[0mindexer\u001b[0m\u001b[0;34m]\u001b[0m\u001b[0;34m\u001b[0m\u001b[0;34m\u001b[0m\u001b[0m\n",
      "\u001b[0;32m~/opt/anaconda3/lib/python3.8/site-packages/pandas/core/indexes/base.py\u001b[0m in \u001b[0;36mget_loc\u001b[0;34m(self, key, method, tolerance)\u001b[0m\n\u001b[1;32m   3621\u001b[0m                 \u001b[0;32mreturn\u001b[0m \u001b[0mself\u001b[0m\u001b[0;34m.\u001b[0m\u001b[0m_engine\u001b[0m\u001b[0;34m.\u001b[0m\u001b[0mget_loc\u001b[0m\u001b[0;34m(\u001b[0m\u001b[0mcasted_key\u001b[0m\u001b[0;34m)\u001b[0m\u001b[0;34m\u001b[0m\u001b[0;34m\u001b[0m\u001b[0m\n\u001b[1;32m   3622\u001b[0m             \u001b[0;32mexcept\u001b[0m \u001b[0mKeyError\u001b[0m \u001b[0;32mas\u001b[0m \u001b[0merr\u001b[0m\u001b[0;34m:\u001b[0m\u001b[0;34m\u001b[0m\u001b[0;34m\u001b[0m\u001b[0m\n\u001b[0;32m-> 3623\u001b[0;31m                 \u001b[0;32mraise\u001b[0m \u001b[0mKeyError\u001b[0m\u001b[0;34m(\u001b[0m\u001b[0mkey\u001b[0m\u001b[0;34m)\u001b[0m \u001b[0;32mfrom\u001b[0m \u001b[0merr\u001b[0m\u001b[0;34m\u001b[0m\u001b[0;34m\u001b[0m\u001b[0m\n\u001b[0m\u001b[1;32m   3624\u001b[0m             \u001b[0;32mexcept\u001b[0m \u001b[0mTypeError\u001b[0m\u001b[0;34m:\u001b[0m\u001b[0;34m\u001b[0m\u001b[0;34m\u001b[0m\u001b[0m\n\u001b[1;32m   3625\u001b[0m                 \u001b[0;31m# If we have a listlike key, _check_indexing_error will raise\u001b[0m\u001b[0;34m\u001b[0m\u001b[0;34m\u001b[0m\u001b[0;34m\u001b[0m\u001b[0m\n",
      "\u001b[0;31mKeyError\u001b[0m: 'wapo_id'"
     ]
    }
   ],
   "source": [
    "'''remove all wapo ids from mcdc'''\n",
    "mcdc = mcdc[~mcdc['wapo_id'].isin(wapos['wapo_id'])]\n",
    "wapo = wapo[~wapo['wapo_id'].isin(wapos['wapo_id'])]"
   ]
  },
  {
   "cell_type": "code",
   "execution_count": null,
   "id": "b0319a37",
   "metadata": {},
   "outputs": [],
   "source": [
    "len(wapo), len(mpv), len(mcdc)"
   ]
  },
  {
   "cell_type": "code",
   "execution_count": 44,
   "id": "7a8ecf02",
   "metadata": {
    "scrolled": true
   },
   "outputs": [],
   "source": [
    "'''check mcdc names against mpv and wapo'''\n",
    "mcdc['name'] = mcdc['name'].fillna('noname')\n",
    "mcdc['name'] = mcdc['name'].apply(tuple)\n",
    "mpv['name'] = mpv['name'].apply(tuple)\n",
    "wapo['name'] = wapo['name'].apply(tuple)\n",
    "mpv_matches = mcdc.merge(mpv, on='name', how='inner')\n",
    "wapo_matches = mcdc.merge(wapo, on='name', how='inner')"
   ]
  },
  {
   "cell_type": "code",
   "execution_count": 45,
   "id": "7c7d76f8",
   "metadata": {},
   "outputs": [],
   "source": [
    "'''filter out mpv_matches from mcdc and mpv'''\n",
    "mcdc = mcdc[~mcdc['name'].isin(mpv_matches['name'])]\n",
    "mcdc = mcdc[~mcdc['name'].isin(wapo_matches['name'])]\n",
    "mpv = mpv[~mpv['name'].isin(mpv_matches['name'])]\n",
    "wapo = wapo[~wapo['name'].isin(wapo_matches['name'])]"
   ]
  },
  {
   "cell_type": "code",
   "execution_count": 46,
   "id": "6af22bc8",
   "metadata": {
    "scrolled": true
   },
   "outputs": [
    {
     "data": {
      "text/plain": [
       "(357, 1667, 69)"
      ]
     },
     "execution_count": 46,
     "metadata": {},
     "output_type": "execute_result"
    }
   ],
   "source": [
    "len(wapo), len(mpv), len(mcdc)"
   ]
  },
  {
   "cell_type": "code",
   "execution_count": 17,
   "id": "9b944200",
   "metadata": {
    "scrolled": true
   },
   "outputs": [],
   "source": [
    "'''match on date'''\n",
    "mpv_date_matches = mcdc.merge(mpv, on='date', how='inner')\n",
    "wapo_date_matches = mcdc.merge(wapo, on='date', how='inner')"
   ]
  },
  {
   "cell_type": "code",
   "execution_count": 18,
   "id": "e2edb85c",
   "metadata": {},
   "outputs": [],
   "source": [
    "'''check that name matches when date matches'''\n",
    "wapo_dates = wapo_date_matches[wapo_date_matches.apply(lambda x: any(i in x['name_x'] \n",
    "                                                       for i in x['name_y']), axis=1)]\n",
    "mpv_dates = mpv_date_matches[mpv_date_matches.apply(lambda x: any(i in x['name_x'] \n",
    "                                                       for i in x['name_y']), axis=1)]"
   ]
  },
  {
   "cell_type": "code",
   "execution_count": 894,
   "id": "3379704b",
   "metadata": {},
   "outputs": [],
   "source": [
    "'''remove matches from mcdc, wapo, mpv'''\n",
    "mcdc = mcdc[~mcdc['date'].isin(mpv_dates['date'])]\n",
    "mcdc = mcdc[~mcdc['date'].isin(wapo_dates['date'])]\n",
    "mpv = mpv[~mpv['date'].isin(mpv_dates['date'])]\n",
    "wapo = wapo[~wapo['date'].isin(wapo_dates['date'])]"
   ]
  },
  {
   "cell_type": "code",
   "execution_count": 895,
   "id": "eef427b8",
   "metadata": {
    "scrolled": true
   },
   "outputs": [
    {
     "data": {
      "text/plain": [
       "(345, 1642, 50)"
      ]
     },
     "execution_count": 895,
     "metadata": {},
     "output_type": "execute_result"
    }
   ],
   "source": [
    "len(wapo), len(mpv), len(mcdc)"
   ]
  },
  {
   "cell_type": "code",
   "execution_count": null,
   "id": "9ffde669",
   "metadata": {},
   "outputs": [],
   "source": []
  }
 ],
 "metadata": {
  "kernelspec": {
   "display_name": "Python 3 (ipykernel)",
   "language": "python",
   "name": "python3"
  },
  "language_info": {
   "codemirror_mode": {
    "name": "ipython",
    "version": 3
   },
   "file_extension": ".py",
   "mimetype": "text/x-python",
   "name": "python",
   "nbconvert_exporter": "python",
   "pygments_lexer": "ipython3",
   "version": "3.8.12"
  }
 },
 "nbformat": 4,
 "nbformat_minor": 5
}
